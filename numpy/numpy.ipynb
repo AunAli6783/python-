{
  "nbformat": 4,
  "nbformat_minor": 0,
  "metadata": {
    "colab": {
      "provenance": []
    },
    "kernelspec": {
      "name": "python3",
      "display_name": "Python 3"
    },
    "language_info": {
      "name": "python"
    }
  },
  "cells": [
    {
      "cell_type": "markdown",
      "source": [
        "## Random numpy Question"
      ],
      "metadata": {
        "id": "ntnHG6aEPjOw"
      }
    },
    {
      "cell_type": "code",
      "execution_count": 3,
      "metadata": {
        "id": "iTDZbEJMrB0k"
      },
      "outputs": [],
      "source": [
        "import numpy as np"
      ]
    },
    {
      "cell_type": "code",
      "source": [
        "arr=np.array((1,2,3))\n",
        "arr\n",
        "\n",
        "arr2=np.array({1,2,3})\n",
        "arr2\n",
        "\n",
        "arr3=np.array([1,2,3])\n",
        "arr3\n",
        "\n"
      ],
      "metadata": {
        "colab": {
          "base_uri": "https://localhost:8080/"
        },
        "id": "4Yn2NIslrHz7",
        "outputId": "02531884-d54a-49d1-a213-9bef0e402fe2"
      },
      "execution_count": 6,
      "outputs": [
        {
          "output_type": "execute_result",
          "data": {
            "text/plain": [
              "dtype('int64')"
            ]
          },
          "metadata": {},
          "execution_count": 6
        }
      ]
    },
    {
      "cell_type": "code",
      "source": [
        "arr=np.array(i for i in range(1,10))\n",
        "arr"
      ],
      "metadata": {
        "colab": {
          "base_uri": "https://localhost:8080/"
        },
        "id": "PLI0ZyFdrrGb",
        "outputId": "52fd1d1c-3d77-48c6-d5d9-cb613574f2e5"
      },
      "execution_count": 8,
      "outputs": [
        {
          "output_type": "execute_result",
          "data": {
            "text/plain": [
              "array(<generator object <genexpr> at 0x7c12cb291560>, dtype=object)"
            ]
          },
          "metadata": {},
          "execution_count": 8
        }
      ]
    },
    {
      "cell_type": "code",
      "source": [
        "arr=np.array([[1,2,3],\n",
        "             [4,5,6],\n",
        "            [7,8,9]])\n",
        "arr"
      ],
      "metadata": {
        "colab": {
          "base_uri": "https://localhost:8080/"
        },
        "id": "O2xGWLUVsEaE",
        "outputId": "457c2956-bb76-4179-b587-fb582ced471c"
      },
      "execution_count": 10,
      "outputs": [
        {
          "output_type": "execute_result",
          "data": {
            "text/plain": [
              "array([[1, 2, 3],\n",
              "       [4, 5, 6],\n",
              "       [7, 8, 9]])"
            ]
          },
          "metadata": {},
          "execution_count": 10
        }
      ]
    },
    {
      "cell_type": "code",
      "source": [
        "arr.argmax()\n",
        "arr.argmin()"
      ],
      "metadata": {
        "colab": {
          "base_uri": "https://localhost:8080/"
        },
        "id": "t2FOEJUksTs8",
        "outputId": "5944ddc3-0865-4957-fc17-41d5d7430e28"
      },
      "execution_count": 12,
      "outputs": [
        {
          "output_type": "execute_result",
          "data": {
            "text/plain": [
              "np.int64(0)"
            ]
          },
          "metadata": {},
          "execution_count": 12
        }
      ]
    },
    {
      "cell_type": "code",
      "source": [
        "arr.any()"
      ],
      "metadata": {
        "colab": {
          "base_uri": "https://localhost:8080/"
        },
        "id": "XRwpqQbzsdhs",
        "outputId": "1e7c5dbc-79da-49f8-f371-2fd6b6979293"
      },
      "execution_count": 14,
      "outputs": [
        {
          "output_type": "execute_result",
          "data": {
            "text/plain": [
              "np.True_"
            ]
          },
          "metadata": {},
          "execution_count": 14
        }
      ]
    },
    {
      "cell_type": "code",
      "source": [
        "np.empty([4,5], dtype= int )"
      ],
      "metadata": {
        "colab": {
          "base_uri": "https://localhost:8080/"
        },
        "id": "LxOOMNSKsi6u",
        "outputId": "f990a408-54a7-4fff-dd62-7a5bec82376e"
      },
      "execution_count": 24,
      "outputs": [
        {
          "output_type": "execute_result",
          "data": {
            "text/plain": [
              "array([[1043744794,          0, 1043570792,       1125, 1043570984],\n",
              "       [       143, 1043570824,       1126, 1043570984,        143],\n",
              "       [1043570856,       1127, 1043570984,        143, 1043570888],\n",
              "       [      1131, 1043570984,        143, 1043570920,         24]])"
            ]
          },
          "metadata": {},
          "execution_count": 24
        }
      ]
    },
    {
      "cell_type": "code",
      "source": [
        "np.zeros(5, dtype=int)"
      ],
      "metadata": {
        "colab": {
          "base_uri": "https://localhost:8080/"
        },
        "id": "IqEt9K5pBsu0",
        "outputId": "4897669b-dec4-4c03-dc5c-48c07530f4cb"
      },
      "execution_count": 5,
      "outputs": [
        {
          "output_type": "execute_result",
          "data": {
            "text/plain": [
              "array([0, 0, 0, 0, 0])"
            ]
          },
          "metadata": {},
          "execution_count": 5
        }
      ]
    },
    {
      "cell_type": "code",
      "source": [
        "a=np.ones([2,5], dtype=int)"
      ],
      "metadata": {
        "id": "8QyhhovjCCo1"
      },
      "execution_count": 11,
      "outputs": []
    },
    {
      "cell_type": "code",
      "source": [
        "np.linspace(1,2,5)\n"
      ],
      "metadata": {
        "colab": {
          "base_uri": "https://localhost:8080/"
        },
        "id": "efJGCJXpCI-K",
        "outputId": "873c2d58-2017-4845-975c-a7ec2c245784"
      },
      "execution_count": 10,
      "outputs": [
        {
          "output_type": "execute_result",
          "data": {
            "text/plain": [
              "array([1.  , 1.25, 1.5 , 1.75, 2.  ])"
            ]
          },
          "metadata": {},
          "execution_count": 10
        }
      ]
    },
    {
      "cell_type": "code",
      "source": [
        "a.shape"
      ],
      "metadata": {
        "colab": {
          "base_uri": "https://localhost:8080/"
        },
        "id": "3PB6xTjSCeTh",
        "outputId": "bc8cc9c4-f159-4a4d-a831-ca33d254c406"
      },
      "execution_count": 13,
      "outputs": [
        {
          "output_type": "execute_result",
          "data": {
            "text/plain": [
              "(2, 5)"
            ]
          },
          "metadata": {},
          "execution_count": 13
        }
      ]
    },
    {
      "cell_type": "code",
      "source": [
        "a.size"
      ],
      "metadata": {
        "colab": {
          "base_uri": "https://localhost:8080/"
        },
        "id": "NKADd0bHChCY",
        "outputId": "59650eee-0582-4e34-f3d1-b51ca4c57a05"
      },
      "execution_count": 14,
      "outputs": [
        {
          "output_type": "execute_result",
          "data": {
            "text/plain": [
              "10"
            ]
          },
          "metadata": {},
          "execution_count": 14
        }
      ]
    },
    {
      "cell_type": "code",
      "source": [
        "len(a)"
      ],
      "metadata": {
        "colab": {
          "base_uri": "https://localhost:8080/"
        },
        "id": "ogPs0kgNCi0a",
        "outputId": "d8b6e356-da67-4ebb-e13a-eaa9b1f64dbb"
      },
      "execution_count": 15,
      "outputs": [
        {
          "output_type": "execute_result",
          "data": {
            "text/plain": [
              "2"
            ]
          },
          "metadata": {},
          "execution_count": 15
        }
      ]
    },
    {
      "cell_type": "code",
      "source": [
        "a."
      ],
      "metadata": {
        "id": "RObcNApJCmpx"
      },
      "execution_count": null,
      "outputs": []
    },
    {
      "cell_type": "code",
      "source": [
        "\n",
        "a1=np.arange(0,10, dtype=int)\n",
        "a2=np.arange(10,20,dtype=int)\n",
        "print(a1)\n",
        "print(a2)"
      ],
      "metadata": {
        "colab": {
          "base_uri": "https://localhost:8080/"
        },
        "id": "pDAE90XSIWNa",
        "outputId": "6c494ab2-43c9-44a1-a515-431438e4dda9"
      },
      "execution_count": 26,
      "outputs": [
        {
          "output_type": "stream",
          "name": "stdout",
          "text": [
            "[0 1 2 3 4 5 6 7 8 9]\n",
            "[10 11 12 13 14 15 16 17 18 19]\n"
          ]
        }
      ]
    },
    {
      "cell_type": "code",
      "source": [
        "a1.min()"
      ],
      "metadata": {
        "colab": {
          "base_uri": "https://localhost:8080/"
        },
        "id": "Ax6vgqgnIoHa",
        "outputId": "42957404-ad6f-4259-a87f-e5b482809b27"
      },
      "execution_count": 21,
      "outputs": [
        {
          "output_type": "execute_result",
          "data": {
            "text/plain": [
              "np.int64(1)"
            ]
          },
          "metadata": {},
          "execution_count": 21
        }
      ]
    },
    {
      "cell_type": "code",
      "source": [
        "a2.max()"
      ],
      "metadata": {
        "colab": {
          "base_uri": "https://localhost:8080/"
        },
        "id": "vwGBSIx5IuAM",
        "outputId": "14557457-b236-4e51-cbeb-1a1d3d63aa9e"
      },
      "execution_count": 22,
      "outputs": [
        {
          "output_type": "execute_result",
          "data": {
            "text/plain": [
              "np.int64(19)"
            ]
          },
          "metadata": {},
          "execution_count": 22
        }
      ]
    },
    {
      "cell_type": "code",
      "source": [
        "a1.mean()"
      ],
      "metadata": {
        "colab": {
          "base_uri": "https://localhost:8080/"
        },
        "id": "ZsfRPLyKIwlq",
        "outputId": "c8ab43c1-1f50-4bf7-ee66-adb0607af5e1"
      },
      "execution_count": 23,
      "outputs": [
        {
          "output_type": "execute_result",
          "data": {
            "text/plain": [
              "np.float64(5.0)"
            ]
          },
          "metadata": {},
          "execution_count": 23
        }
      ]
    },
    {
      "cell_type": "code",
      "source": [
        "np.power(a1,a2)"
      ],
      "metadata": {
        "colab": {
          "base_uri": "https://localhost:8080/"
        },
        "id": "vfK0Gek4I4GE",
        "outputId": "bb3d79d7-b6a1-4490-832d-13c5e768148c"
      },
      "execution_count": 27,
      "outputs": [
        {
          "output_type": "execute_result",
          "data": {
            "text/plain": [
              "array([                  0,                   1,                4096,\n",
              "                   1594323,           268435456,         30517578125,\n",
              "             2821109907456,     232630513987207,   18014398509481984,\n",
              "       1350851717672992089])"
            ]
          },
          "metadata": {},
          "execution_count": 27
        }
      ]
    },
    {
      "cell_type": "markdown",
      "source": [
        "# Question by chatgpt and its solution\n",
        "\n",
        "🧠 Question:\n",
        "Write a Python program using NumPy to:\n",
        "\n",
        "Create a 5x5 matrix with random integers from 10 to 100.\n",
        "\n",
        "Replace all even numbers in the matrix with 0.\n",
        "\n",
        "Calculate:\n",
        "\n",
        "The sum of each row\n",
        "\n",
        "The mean of each column\n",
        "\n",
        "The maximum value in the entire matrix\n",
        "\n",
        "Flatten the matrix and sort it in ascending order.\n",
        "\n",
        "Reshape the sorted 1D array back into a 5x5 matrix."
      ],
      "metadata": {
        "id": "BhI5OeOGPZaO"
      }
    },
    {
      "cell_type": "code",
      "source": [
        "mat=np.random.randint(10,100, size=(5,5))\n",
        "mat\n"
      ],
      "metadata": {
        "colab": {
          "base_uri": "https://localhost:8080/"
        },
        "id": "4iABLP42LN_Q",
        "outputId": "c2ef9223-3d33-4b62-82de-688ce23a151d"
      },
      "execution_count": 67,
      "outputs": [
        {
          "output_type": "execute_result",
          "data": {
            "text/plain": [
              "array([[66, 37, 61, 20, 75],\n",
              "       [56, 72, 30, 35, 18],\n",
              "       [68, 48, 60, 93, 46],\n",
              "       [58, 91, 82, 35, 96],\n",
              "       [53, 33, 36, 88, 76]])"
            ]
          },
          "metadata": {},
          "execution_count": 67
        }
      ]
    },
    {
      "cell_type": "code",
      "source": [
        "mask=mat%2==0\n",
        "mask"
      ],
      "metadata": {
        "colab": {
          "base_uri": "https://localhost:8080/"
        },
        "id": "1cRmMPGGNiZD",
        "outputId": "224db337-57b2-43f0-c91b-58fb0e268577"
      },
      "execution_count": 68,
      "outputs": [
        {
          "output_type": "execute_result",
          "data": {
            "text/plain": [
              "array([[ True, False, False,  True, False],\n",
              "       [ True,  True,  True, False,  True],\n",
              "       [ True,  True,  True, False,  True],\n",
              "       [ True, False,  True, False,  True],\n",
              "       [False, False,  True,  True,  True]])"
            ]
          },
          "metadata": {},
          "execution_count": 68
        }
      ]
    },
    {
      "cell_type": "code",
      "source": [
        "mat[mask]=0\n",
        "mat"
      ],
      "metadata": {
        "colab": {
          "base_uri": "https://localhost:8080/"
        },
        "id": "mHN8_I-2M6u9",
        "outputId": "73d38a8d-47b8-4b69-8e37-9b007c148228"
      },
      "execution_count": 69,
      "outputs": [
        {
          "output_type": "execute_result",
          "data": {
            "text/plain": [
              "array([[ 0, 37, 61,  0, 75],\n",
              "       [ 0,  0,  0, 35,  0],\n",
              "       [ 0,  0,  0, 93,  0],\n",
              "       [ 0, 91,  0, 35,  0],\n",
              "       [53, 33,  0,  0,  0]])"
            ]
          },
          "metadata": {},
          "execution_count": 69
        }
      ]
    },
    {
      "cell_type": "code",
      "source": [
        "mat.sum(axis=0)"
      ],
      "metadata": {
        "colab": {
          "base_uri": "https://localhost:8080/"
        },
        "id": "9o0sHDrpOSyS",
        "outputId": "b1ee0c5c-99ac-4086-af8a-5890b4179d41"
      },
      "execution_count": 70,
      "outputs": [
        {
          "output_type": "execute_result",
          "data": {
            "text/plain": [
              "array([ 53, 161,  61, 163,  75])"
            ]
          },
          "metadata": {},
          "execution_count": 70
        }
      ]
    },
    {
      "cell_type": "code",
      "source": [
        "mat.sum(axis=1)"
      ],
      "metadata": {
        "colab": {
          "base_uri": "https://localhost:8080/"
        },
        "id": "2G6HOmhaOip6",
        "outputId": "0cc29baa-d29f-4918-9a84-72518bdd6bbd"
      },
      "execution_count": 71,
      "outputs": [
        {
          "output_type": "execute_result",
          "data": {
            "text/plain": [
              "array([173,  35,  93, 126,  86])"
            ]
          },
          "metadata": {},
          "execution_count": 71
        }
      ]
    },
    {
      "cell_type": "code",
      "source": [
        "mat.max()\n"
      ],
      "metadata": {
        "colab": {
          "base_uri": "https://localhost:8080/"
        },
        "id": "dN4xR273Omp5",
        "outputId": "10ef4546-d954-46e1-a360-aca5852d4a60"
      },
      "execution_count": 72,
      "outputs": [
        {
          "output_type": "execute_result",
          "data": {
            "text/plain": [
              "np.int64(93)"
            ]
          },
          "metadata": {},
          "execution_count": 72
        }
      ]
    },
    {
      "cell_type": "code",
      "source": [
        "mat=mat.flatten()\n"
      ],
      "metadata": {
        "id": "sx4HVoOOOsyl"
      },
      "execution_count": 73,
      "outputs": []
    },
    {
      "cell_type": "code",
      "source": [
        "mat"
      ],
      "metadata": {
        "colab": {
          "base_uri": "https://localhost:8080/"
        },
        "id": "IbhGB7EoOvbJ",
        "outputId": "69643fa4-03a7-4d09-b8d9-883c6d6de6ab"
      },
      "execution_count": 74,
      "outputs": [
        {
          "output_type": "execute_result",
          "data": {
            "text/plain": [
              "array([ 0, 37, 61,  0, 75,  0,  0,  0, 35,  0,  0,  0,  0, 93,  0,  0, 91,\n",
              "        0, 35,  0, 53, 33,  0,  0,  0])"
            ]
          },
          "metadata": {},
          "execution_count": 74
        }
      ]
    },
    {
      "cell_type": "code",
      "source": [
        "mat.sort()"
      ],
      "metadata": {
        "id": "VDmSWSZRPKGU"
      },
      "execution_count": 75,
      "outputs": []
    },
    {
      "cell_type": "code",
      "source": [
        "mat"
      ],
      "metadata": {
        "colab": {
          "base_uri": "https://localhost:8080/"
        },
        "id": "ZSVVgtUVPMq4",
        "outputId": "d6d1d36c-df5d-47fa-d58b-20daba40886c"
      },
      "execution_count": 76,
      "outputs": [
        {
          "output_type": "execute_result",
          "data": {
            "text/plain": [
              "array([ 0,  0,  0,  0,  0,  0,  0,  0,  0,  0,  0,  0,  0,  0,  0,  0, 33,\n",
              "       35, 35, 37, 53, 61, 75, 91, 93])"
            ]
          },
          "metadata": {},
          "execution_count": 76
        }
      ]
    },
    {
      "cell_type": "code",
      "source": [
        "mat.reshape(5,5)"
      ],
      "metadata": {
        "colab": {
          "base_uri": "https://localhost:8080/"
        },
        "id": "L1JkrAkXPSYj",
        "outputId": "203fc2b4-f100-4023-adaf-a7fde69f8ca0"
      },
      "execution_count": 77,
      "outputs": [
        {
          "output_type": "execute_result",
          "data": {
            "text/plain": [
              "array([[ 0,  0,  0,  0,  0],\n",
              "       [ 0,  0,  0,  0,  0],\n",
              "       [ 0,  0,  0,  0,  0],\n",
              "       [ 0, 33, 35, 35, 37],\n",
              "       [53, 61, 75, 91, 93]])"
            ]
          },
          "metadata": {},
          "execution_count": 77
        }
      ]
    },
    {
      "cell_type": "markdown",
      "source": [
        "❓ Question:\n",
        "Write a Python program using NumPy to:\n",
        "\n",
        "Create a 6×6 matrix filled with numbers from 1 to 36.\n",
        "\n",
        "Extract:\n",
        "\n",
        "The 2nd row\n",
        "\n",
        "The 3rd column\n",
        "\n",
        "A 3×3 sub-matrix from the center\n",
        "\n",
        "Multiply all even numbers in the matrix by -1.\n",
        "\n",
        "Compute:\n",
        "\n",
        "The sum of all positive values\n",
        "\n",
        "The mean of the entire matrix"
      ],
      "metadata": {
        "id": "-ypWbhIHTFLX"
      }
    },
    {
      "cell_type": "code",
      "source": [
        "mat2=np.random.randint(1,36, size=(6,6))\n",
        "mat2"
      ],
      "metadata": {
        "colab": {
          "base_uri": "https://localhost:8080/"
        },
        "id": "xswTrEg7P2kq",
        "outputId": "c9fcf22c-fb61-4acb-ab42-0206f2b2e344"
      },
      "execution_count": 107,
      "outputs": [
        {
          "output_type": "execute_result",
          "data": {
            "text/plain": [
              "array([[21, 20,  3, 22,  6,  2],\n",
              "       [ 8, 11, 31, 24, 10,  2],\n",
              "       [ 2, 18, 12,  3, 21, 25],\n",
              "       [15, 29,  4, 33,  5, 17],\n",
              "       [33, 33, 10, 23,  9, 22],\n",
              "       [10, 19, 23, 18,  6,  8]])"
            ]
          },
          "metadata": {},
          "execution_count": 107
        }
      ]
    },
    {
      "cell_type": "code",
      "source": [
        "mat3=mat2[2]\n",
        "mat3"
      ],
      "metadata": {
        "colab": {
          "base_uri": "https://localhost:8080/"
        },
        "id": "fz23v7y3QAjO",
        "outputId": "9d215827-ee0e-4786-c607-38cb24324ef6"
      },
      "execution_count": 110,
      "outputs": [
        {
          "output_type": "execute_result",
          "data": {
            "text/plain": [
              "array([ -2, -18, -12,   3, -21,  25])"
            ]
          },
          "metadata": {},
          "execution_count": 110
        }
      ]
    },
    {
      "cell_type": "code",
      "source": [
        "mat4=mat2[:,3]\n",
        "mat4"
      ],
      "metadata": {
        "colab": {
          "base_uri": "https://localhost:8080/"
        },
        "id": "_T35J7U1QLKg",
        "outputId": "4a60dcdc-fa0c-432f-d26a-cf64cadcaa0f"
      },
      "execution_count": 111,
      "outputs": [
        {
          "output_type": "execute_result",
          "data": {
            "text/plain": [
              "array([ 22, -24,   3,  33, -23, -18])"
            ]
          },
          "metadata": {},
          "execution_count": 111
        }
      ]
    },
    {
      "cell_type": "code",
      "source": [
        "\n",
        "sub_matrix = mat2[1:4, 1:4]\n",
        "print(sub_matrix)\n"
      ],
      "metadata": {
        "colab": {
          "base_uri": "https://localhost:8080/"
        },
        "id": "UZ4gq3YoQcmq",
        "outputId": "a0e8bb78-bd3c-45c1-a785-69f66f060049"
      },
      "execution_count": 112,
      "outputs": [
        {
          "output_type": "stream",
          "name": "stdout",
          "text": [
            "[[ 11  31 -24]\n",
            " [-18 -12   3]\n",
            " [-29   4  33]]\n"
          ]
        }
      ]
    },
    {
      "cell_type": "code",
      "source": [
        "mat_even=mat2%2==0\n",
        "mat_even"
      ],
      "metadata": {
        "colab": {
          "base_uri": "https://localhost:8080/"
        },
        "id": "-jwfItjnQ0be",
        "outputId": "b48913aa-e851-4e25-8d79-e4916d37c657"
      },
      "execution_count": 113,
      "outputs": [
        {
          "output_type": "execute_result",
          "data": {
            "text/plain": [
              "array([[False,  True, False,  True,  True,  True],\n",
              "       [ True, False, False,  True,  True,  True],\n",
              "       [ True,  True,  True, False, False, False],\n",
              "       [False, False,  True, False, False, False],\n",
              "       [False, False,  True, False, False,  True],\n",
              "       [ True, False, False,  True,  True,  True]])"
            ]
          },
          "metadata": {},
          "execution_count": 113
        }
      ]
    },
    {
      "cell_type": "code",
      "source": [
        "mat2[mat_even] *= -1\n"
      ],
      "metadata": {
        "id": "5Iw46qrJRF70"
      },
      "execution_count": 114,
      "outputs": []
    },
    {
      "cell_type": "code",
      "source": [
        "mat2"
      ],
      "metadata": {
        "colab": {
          "base_uri": "https://localhost:8080/"
        },
        "id": "ppN5WiDCRc5d",
        "outputId": "760d689d-12f0-4e7a-d11c-eabc3db4c3b2"
      },
      "execution_count": 115,
      "outputs": [
        {
          "output_type": "execute_result",
          "data": {
            "text/plain": [
              "array([[ 21, -20,   3, -22,   6,  -2],\n",
              "       [  8,  11,  31,  24, -10,   2],\n",
              "       [  2,  18,  12,   3, -21,  25],\n",
              "       [ 15, -29,  -4,  33,   5, -17],\n",
              "       [-33,  33, -10, -23,   9,  22],\n",
              "       [ 10, -19, -23,  18,   6,   8]])"
            ]
          },
          "metadata": {},
          "execution_count": 115
        }
      ]
    },
    {
      "cell_type": "code",
      "source": [
        "copy=mat2.copy()"
      ],
      "metadata": {
        "id": "jRHC-6caSse6"
      },
      "execution_count": 116,
      "outputs": []
    },
    {
      "cell_type": "code",
      "source": [
        "sum=np.sum(copy[copy>0])\n",
        "sum"
      ],
      "metadata": {
        "colab": {
          "base_uri": "https://localhost:8080/"
        },
        "id": "OfVPs6sVSeFR",
        "outputId": "7f72cc4f-c1bc-4eb9-d67a-92da73dde838"
      },
      "execution_count": 120,
      "outputs": [
        {
          "output_type": "execute_result",
          "data": {
            "text/plain": [
              "np.int64(325)"
            ]
          },
          "metadata": {},
          "execution_count": 120
        }
      ]
    },
    {
      "cell_type": "code",
      "source": [
        "mat2.mean()"
      ],
      "metadata": {
        "colab": {
          "base_uri": "https://localhost:8080/"
        },
        "id": "bCC3tCTVS-hm",
        "outputId": "61b96353-7df5-466e-a514-fc0ebd3444b3"
      },
      "execution_count": 122,
      "outputs": [
        {
          "output_type": "execute_result",
          "data": {
            "text/plain": [
              "np.float64(2.5555555555555554)"
            ]
          },
          "metadata": {},
          "execution_count": 122
        }
      ]
    },
    {
      "cell_type": "markdown",
      "source": [
        "## Resources"
      ],
      "metadata": {
        "id": "eQO-MKpHXY89"
      }
    },
    {
      "cell_type": "markdown",
      "source": [
        "numpy notes  https://www.dataquest.io/cheat-sheet/numpy-cheat-sheet/?utm_source=chatgpt.com\n",
        "\n",
        "https://lectures.scientific-python.org/intro/index.html"
      ],
      "metadata": {
        "id": "qdN4IjnNXKBK"
      }
    },
    {
      "cell_type": "markdown",
      "source": [
        "![image.png](data:image/png;base64,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)"
      ],
      "metadata": {
        "id": "6NsPHOTxZFy3"
      }
    },
    {
      "cell_type": "code",
      "source": [],
      "metadata": {
        "id": "NaFkUeLmXS1O"
      },
      "execution_count": null,
      "outputs": []
    }
  ]
}