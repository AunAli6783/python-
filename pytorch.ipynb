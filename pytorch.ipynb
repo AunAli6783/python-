{
  "nbformat": 4,
  "nbformat_minor": 0,
  "metadata": {
    "colab": {
      "provenance": [],
      "gpuType": "T4",
      "authorship_tag": "ABX9TyNCr9faq3NoXJu4WA+xNdXU",
      "include_colab_link": true
    },
    "kernelspec": {
      "name": "python3",
      "display_name": "Python 3"
    },
    "language_info": {
      "name": "python"
    },
    "accelerator": "GPU"
  },
  "cells": [
    {
      "cell_type": "markdown",
      "metadata": {
        "id": "view-in-github",
        "colab_type": "text"
      },
      "source": [
        "<a href=\"https://colab.research.google.com/github/AunAli6783/python-/blob/main/pytorch.ipynb\" target=\"_parent\"><img src=\"https://colab.research.google.com/assets/colab-badge.svg\" alt=\"Open In Colab\"/></a>"
      ]
    },
    {
      "cell_type": "code",
      "execution_count": null,
      "metadata": {
        "colab": {
          "base_uri": "https://localhost:8080/"
        },
        "id": "TVMN2FUZDHyb",
        "outputId": "b9510979-6f18-4817-b0f5-c19c3f72737b"
      },
      "outputs": [
        {
          "output_type": "stream",
          "name": "stdout",
          "text": [
            "2.6.0+cu124\n"
          ]
        }
      ],
      "source": [
        "import torch\n",
        "print(torch.__version__)\n"
      ]
    },
    {
      "cell_type": "code",
      "source": [
        "scalar =torch.tensor(7)"
      ],
      "metadata": {
        "id": "fc98t--eDfYO"
      },
      "execution_count": null,
      "outputs": []
    },
    {
      "cell_type": "code",
      "source": [
        "scalar"
      ],
      "metadata": {
        "colab": {
          "base_uri": "https://localhost:8080/"
        },
        "id": "f3m3wAM1Kqyy",
        "outputId": "9493e460-4f7d-42ba-d850-7413c2bd2e7b"
      },
      "execution_count": null,
      "outputs": [
        {
          "output_type": "execute_result",
          "data": {
            "text/plain": [
              "tensor(7)"
            ]
          },
          "metadata": {},
          "execution_count": 3
        }
      ]
    },
    {
      "cell_type": "code",
      "source": [
        "scalar.ndim"
      ],
      "metadata": {
        "colab": {
          "base_uri": "https://localhost:8080/"
        },
        "id": "e8AQBrpUKr4W",
        "outputId": "64a7c7c0-b7c9-4d76-f4b3-65dec3dc6006"
      },
      "execution_count": null,
      "outputs": [
        {
          "output_type": "execute_result",
          "data": {
            "text/plain": [
              "0"
            ]
          },
          "metadata": {},
          "execution_count": 4
        }
      ]
    },
    {
      "cell_type": "code",
      "source": [
        "scalar.shape\n"
      ],
      "metadata": {
        "colab": {
          "base_uri": "https://localhost:8080/"
        },
        "id": "EYP3v29VKxuZ",
        "outputId": "4d586556-1ffc-4f15-cbd8-877bb1c785ae"
      },
      "execution_count": null,
      "outputs": [
        {
          "output_type": "execute_result",
          "data": {
            "text/plain": [
              "torch.Size([])"
            ]
          },
          "metadata": {},
          "execution_count": 5
        }
      ]
    },
    {
      "cell_type": "code",
      "source": [
        "vector=torch.tensor([1,2])\n",
        "vector"
      ],
      "metadata": {
        "colab": {
          "base_uri": "https://localhost:8080/"
        },
        "id": "xAV6EWliLNTW",
        "outputId": "f1d82a7c-3b58-4e08-f954-ae6f044bf76b"
      },
      "execution_count": null,
      "outputs": [
        {
          "output_type": "execute_result",
          "data": {
            "text/plain": [
              "tensor([1, 2])"
            ]
          },
          "metadata": {},
          "execution_count": 6
        }
      ]
    },
    {
      "cell_type": "code",
      "source": [
        "print(vector.ndim)\n",
        "print(vector.shape)"
      ],
      "metadata": {
        "colab": {
          "base_uri": "https://localhost:8080/"
        },
        "id": "5kGkk5KmLT_l",
        "outputId": "d286748e-c76b-4ebd-9d60-c3dd500edfa8"
      },
      "execution_count": null,
      "outputs": [
        {
          "output_type": "stream",
          "name": "stdout",
          "text": [
            "1\n",
            "torch.Size([2])\n"
          ]
        }
      ]
    },
    {
      "cell_type": "code",
      "source": [
        "vector=torch.tensor([[[[1,2],\n",
        "          [4,5],\n",
        "          [4,5]]]])"
      ],
      "metadata": {
        "id": "g8h_aRlMLbRe"
      },
      "execution_count": null,
      "outputs": []
    },
    {
      "cell_type": "code",
      "source": [
        "print(vector.ndim)\n",
        "print(vector.shape)"
      ],
      "metadata": {
        "colab": {
          "base_uri": "https://localhost:8080/"
        },
        "id": "JfWlX2qyLnZz",
        "outputId": "2d61e5ec-afb9-463e-9560-cc72ad72e1a9"
      },
      "execution_count": null,
      "outputs": [
        {
          "output_type": "stream",
          "name": "stdout",
          "text": [
            "4\n",
            "torch.Size([1, 1, 3, 2])\n"
          ]
        }
      ]
    },
    {
      "cell_type": "code",
      "source": [
        "random = torch.rand(1,10)\n",
        "random"
      ],
      "metadata": {
        "colab": {
          "base_uri": "https://localhost:8080/"
        },
        "id": "YTSYIRPu1cHp",
        "outputId": "6ac979cb-8c56-47cc-c9d4-915cc7a0c83d"
      },
      "execution_count": null,
      "outputs": [
        {
          "output_type": "execute_result",
          "data": {
            "text/plain": [
              "tensor([[0.7743, 0.4883, 0.4506, 0.4014, 0.6159, 0.6778, 0.2920, 0.5338, 0.1865,\n",
              "         0.2204]])"
            ]
          },
          "metadata": {},
          "execution_count": 10
        }
      ]
    },
    {
      "cell_type": "code",
      "source": [
        "random2=torch.rand(3,4,4)\n",
        "random2"
      ],
      "metadata": {
        "colab": {
          "base_uri": "https://localhost:8080/"
        },
        "id": "EdmFdYqY1qh0",
        "outputId": "35268746-960a-409a-9238-a9845a6bcb11"
      },
      "execution_count": null,
      "outputs": [
        {
          "output_type": "execute_result",
          "data": {
            "text/plain": [
              "tensor([[[4.3932e-01, 7.9057e-01, 9.3029e-01, 7.3378e-02],\n",
              "         [7.2313e-01, 6.4598e-01, 1.3442e-01, 2.9078e-01],\n",
              "         [8.7680e-01, 2.6166e-05, 4.7343e-01, 4.0963e-01],\n",
              "         [3.1538e-01, 4.5693e-01, 2.4625e-01, 8.0219e-01]],\n",
              "\n",
              "        [[1.9521e-01, 7.1431e-01, 4.5782e-01, 4.6632e-01],\n",
              "         [5.5459e-01, 6.2056e-01, 7.4262e-01, 1.7673e-01],\n",
              "         [5.1730e-01, 2.5695e-01, 5.9917e-01, 3.3514e-02],\n",
              "         [1.5484e-01, 6.0505e-01, 4.1745e-01, 1.1808e-01]],\n",
              "\n",
              "        [[6.6660e-01, 7.6329e-01, 1.8544e-01, 5.4468e-01],\n",
              "         [1.2438e-01, 4.3545e-01, 5.4925e-01, 5.4119e-01],\n",
              "         [7.2699e-02, 7.3549e-01, 3.8483e-01, 9.1639e-01],\n",
              "         [8.4985e-01, 1.9803e-01, 7.4226e-01, 3.2133e-01]]])"
            ]
          },
          "metadata": {},
          "execution_count": 11
        }
      ]
    },
    {
      "cell_type": "code",
      "source": [
        "random2.shape , random2.ndim , random2.dtype"
      ],
      "metadata": {
        "colab": {
          "base_uri": "https://localhost:8080/"
        },
        "id": "QhkehSPT15V8",
        "outputId": "3fba0ee9-889c-4d35-c657-93fe24986ec0"
      },
      "execution_count": null,
      "outputs": [
        {
          "output_type": "execute_result",
          "data": {
            "text/plain": [
              "(torch.Size([3, 4, 4]), 3, torch.float32)"
            ]
          },
          "metadata": {},
          "execution_count": 12
        }
      ]
    },
    {
      "cell_type": "code",
      "source": [
        "random3=torch.zeros(1,2,3)\n",
        "random3"
      ],
      "metadata": {
        "colab": {
          "base_uri": "https://localhost:8080/"
        },
        "id": "02okjA0h2CfJ",
        "outputId": "2427ae01-f29b-4e9e-ad28-89b497d0f37c"
      },
      "execution_count": null,
      "outputs": [
        {
          "output_type": "execute_result",
          "data": {
            "text/plain": [
              "tensor([[[0., 0., 0.],\n",
              "         [0., 0., 0.]]])"
            ]
          },
          "metadata": {},
          "execution_count": 13
        }
      ]
    },
    {
      "cell_type": "code",
      "source": [
        "random4=torch.ones(2,2,2,2)\n",
        "random4"
      ],
      "metadata": {
        "colab": {
          "base_uri": "https://localhost:8080/"
        },
        "id": "m-g9ni402K1i",
        "outputId": "eb6e4878-b1fc-4ab3-8d4e-db261ab92cf8"
      },
      "execution_count": null,
      "outputs": [
        {
          "output_type": "execute_result",
          "data": {
            "text/plain": [
              "tensor([[[[1., 1.],\n",
              "          [1., 1.]],\n",
              "\n",
              "         [[1., 1.],\n",
              "          [1., 1.]]],\n",
              "\n",
              "\n",
              "        [[[1., 1.],\n",
              "          [1., 1.]],\n",
              "\n",
              "         [[1., 1.],\n",
              "          [1., 1.]]]])"
            ]
          },
          "metadata": {},
          "execution_count": 14
        }
      ]
    },
    {
      "cell_type": "code",
      "source": [
        "random5=torch.arange(0,10,4)\n",
        "random5"
      ],
      "metadata": {
        "colab": {
          "base_uri": "https://localhost:8080/"
        },
        "id": "Kmjb1zRu2TaE",
        "outputId": "8ae1368d-37b4-4dc4-a9d6-3d8cc6dcf3f1"
      },
      "execution_count": null,
      "outputs": [
        {
          "output_type": "execute_result",
          "data": {
            "text/plain": [
              "tensor([0, 4, 8])"
            ]
          },
          "metadata": {},
          "execution_count": 15
        }
      ]
    },
    {
      "cell_type": "code",
      "source": [
        "random6=torch.arange(100,1000,100, dtype=torch.int)\n",
        "random6"
      ],
      "metadata": {
        "colab": {
          "base_uri": "https://localhost:8080/"
        },
        "id": "nV9Ls2Up2Yvm",
        "outputId": "dc8c22a0-ebcf-46df-ea3a-35b488fa1a58"
      },
      "execution_count": null,
      "outputs": [
        {
          "output_type": "execute_result",
          "data": {
            "text/plain": [
              "tensor([100, 200, 300, 400, 500, 600, 700, 800, 900], dtype=torch.int32)"
            ]
          },
          "metadata": {},
          "execution_count": 16
        }
      ]
    },
    {
      "cell_type": "code",
      "source": [
        "random7=torch.zeros_like(random6)\n",
        "random7"
      ],
      "metadata": {
        "colab": {
          "base_uri": "https://localhost:8080/"
        },
        "id": "DKywfz-l2y8q",
        "outputId": "b075b30c-99a4-4406-bfdb-c6c8c9d84cad"
      },
      "execution_count": null,
      "outputs": [
        {
          "output_type": "execute_result",
          "data": {
            "text/plain": [
              "tensor([0, 0, 0, 0, 0, 0, 0, 0, 0], dtype=torch.int32)"
            ]
          },
          "metadata": {},
          "execution_count": 17
        }
      ]
    },
    {
      "cell_type": "code",
      "source": [
        "dt=torch.rand(3,10 ,dtype=torch.float32 , device='cuda')\n",
        "dt"
      ],
      "metadata": {
        "colab": {
          "base_uri": "https://localhost:8080/"
        },
        "id": "Ss-YWVv7St88",
        "outputId": "000f3625-a109-4aef-bcf0-2374dac33a20"
      },
      "execution_count": null,
      "outputs": [
        {
          "output_type": "execute_result",
          "data": {
            "text/plain": [
              "tensor([[0.1096, 0.6108, 0.0075, 0.2196, 0.1438, 0.7944, 0.4227, 0.9319, 0.0148,\n",
              "         0.2404],\n",
              "        [0.2462, 0.5875, 0.2916, 0.5260, 0.4565, 0.0396, 0.3538, 0.4487, 0.8752,\n",
              "         0.4508],\n",
              "        [0.5026, 0.8946, 0.0091, 0.0366, 0.1270, 0.3985, 0.7137, 0.2601, 0.1653,\n",
              "         0.0682]], device='cuda:0')"
            ]
          },
          "metadata": {},
          "execution_count": 24
        }
      ]
    },
    {
      "cell_type": "code",
      "source": [
        "t1=torch.rand(2,10)\n",
        "t1"
      ],
      "metadata": {
        "colab": {
          "base_uri": "https://localhost:8080/"
        },
        "id": "hj2vC3RNTimw",
        "outputId": "26b176c6-f326-4e2f-9021-f42a87fe9d1d"
      },
      "execution_count": null,
      "outputs": [
        {
          "output_type": "execute_result",
          "data": {
            "text/plain": [
              "tensor([[0.5760, 0.0175, 0.6075, 0.9306, 0.9783, 0.8667, 0.4563, 0.4950, 0.6928,\n",
              "         0.0204],\n",
              "        [0.7012, 0.0635, 0.7805, 0.0723, 0.5204, 0.1972, 0.5984, 0.5571, 0.7427,\n",
              "         0.9504]])"
            ]
          },
          "metadata": {},
          "execution_count": 30
        }
      ]
    },
    {
      "cell_type": "code",
      "source": [
        "t1=t1+10\n",
        "t1\n",
        "\n"
      ],
      "metadata": {
        "colab": {
          "base_uri": "https://localhost:8080/"
        },
        "id": "WktgAM9zT2d9",
        "outputId": "456f30b6-4903-4107-e9ec-da847bc0f564"
      },
      "execution_count": null,
      "outputs": [
        {
          "output_type": "execute_result",
          "data": {
            "text/plain": [
              "tensor([[10.5760, 10.0175, 10.6075, 10.9306, 10.9783, 10.8667, 10.4563, 10.4950,\n",
              "         10.6928, 10.0204],\n",
              "        [10.7012, 10.0635, 10.7805, 10.0723, 10.5204, 10.1972, 10.5984, 10.5571,\n",
              "         10.7427, 10.9504]])"
            ]
          },
          "metadata": {},
          "execution_count": 31
        }
      ]
    },
    {
      "cell_type": "code",
      "source": [
        "t1=t1*2\n",
        "t1"
      ],
      "metadata": {
        "colab": {
          "base_uri": "https://localhost:8080/"
        },
        "id": "ESSzuCwdUBID",
        "outputId": "a3c388a4-0694-42b2-ed92-dadc3ee6bb83"
      },
      "execution_count": null,
      "outputs": [
        {
          "output_type": "execute_result",
          "data": {
            "text/plain": [
              "tensor([[21.1521, 20.0350, 21.2151, 21.8613, 21.9566, 21.7333, 20.9127, 20.9900,\n",
              "         21.3857, 20.0408],\n",
              "        [21.4024, 20.1270, 21.5611, 20.1447, 21.0407, 20.3945, 21.1967, 21.1142,\n",
              "         21.4855, 21.9007]])"
            ]
          },
          "metadata": {},
          "execution_count": 32
        }
      ]
    },
    {
      "cell_type": "code",
      "source": [
        "t1=t1 % 2\n",
        "t1"
      ],
      "metadata": {
        "colab": {
          "base_uri": "https://localhost:8080/"
        },
        "id": "5_Pb8BBMUE-R",
        "outputId": "db9df2dd-09fb-4fd4-bd2e-ac358e7946ba"
      },
      "execution_count": null,
      "outputs": [
        {
          "output_type": "execute_result",
          "data": {
            "text/plain": [
              "tensor([[1.1521, 0.0350, 1.2151, 1.8613, 1.9566, 1.7333, 0.9127, 0.9900, 1.3857,\n",
              "         0.0408],\n",
              "        [1.4024, 0.1270, 1.5611, 0.1447, 1.0407, 0.3945, 1.1967, 1.1142, 1.4855,\n",
              "         1.9007]])"
            ]
          },
          "metadata": {},
          "execution_count": 33
        }
      ]
    },
    {
      "cell_type": "code",
      "source": [
        "t1.shape"
      ],
      "metadata": {
        "colab": {
          "base_uri": "https://localhost:8080/"
        },
        "id": "cbQ989X9UIYA",
        "outputId": "7a5e6427-93f0-45bf-80b7-d03c99219c01"
      },
      "execution_count": null,
      "outputs": [
        {
          "output_type": "execute_result",
          "data": {
            "text/plain": [
              "torch.Size([2, 10])"
            ]
          },
          "metadata": {},
          "execution_count": 34
        }
      ]
    },
    {
      "cell_type": "code",
      "source": [
        "t2=torch.rand(10,2)\n",
        "t2"
      ],
      "metadata": {
        "colab": {
          "base_uri": "https://localhost:8080/"
        },
        "id": "DDJVGCS6UN6d",
        "outputId": "22c00cfa-aa2c-4eb7-ad45-16963ddf1372"
      },
      "execution_count": null,
      "outputs": [
        {
          "output_type": "execute_result",
          "data": {
            "text/plain": [
              "tensor([[0.8892, 0.1161],\n",
              "        [0.2004, 0.6472],\n",
              "        [0.2549, 0.2814],\n",
              "        [0.9973, 0.0297],\n",
              "        [0.5613, 0.0242],\n",
              "        [0.9119, 0.1028],\n",
              "        [0.8440, 0.4781],\n",
              "        [0.2166, 0.6873],\n",
              "        [0.8548, 0.7524],\n",
              "        [0.7410, 0.1048]])"
            ]
          },
          "metadata": {},
          "execution_count": 36
        }
      ]
    },
    {
      "cell_type": "code",
      "source": [
        "t3=torch.matmul(t1,t2)\n",
        "t3"
      ],
      "metadata": {
        "colab": {
          "base_uri": "https://localhost:8080/"
        },
        "id": "cvDTBfvlUSsL",
        "outputId": "92a91ebd-973b-4608-e9a9-f8c7af88de75"
      },
      "execution_count": null,
      "outputs": [
        {
          "output_type": "execute_result",
          "data": {
            "text/plain": [
              "tensor([[8.0757, 2.9430],\n",
              "        [6.6882, 3.4092]])"
            ]
          },
          "metadata": {},
          "execution_count": 47
        }
      ]
    },
    {
      "cell_type": "code",
      "source": [
        "t3=t3.T\n"
      ],
      "metadata": {
        "colab": {
          "base_uri": "https://localhost:8080/"
        },
        "id": "uM_GrCp0Ue-k",
        "outputId": "bac43b65-6387-4958-9fda-a28ed1a5ff2c"
      },
      "execution_count": null,
      "outputs": [
        {
          "output_type": "execute_result",
          "data": {
            "text/plain": [
              "tensor([[8.0757, 6.6882],\n",
              "        [2.9430, 3.4092]])"
            ]
          },
          "metadata": {},
          "execution_count": 48
        }
      ]
    },
    {
      "cell_type": "code",
      "source": [
        "t3\n"
      ],
      "metadata": {
        "colab": {
          "base_uri": "https://localhost:8080/"
        },
        "id": "RkNcGFZ6U0XK",
        "outputId": "7c46f78d-8fdb-4ff4-e369-e9ae6f70cc4d"
      },
      "execution_count": null,
      "outputs": [
        {
          "output_type": "execute_result",
          "data": {
            "text/plain": [
              "tensor([[8.0757, 2.9430],\n",
              "        [6.6882, 3.4092]])"
            ]
          },
          "metadata": {},
          "execution_count": 49
        }
      ]
    },
    {
      "cell_type": "code",
      "source": [
        "print(f'min :{t3.min()}')\n",
        "print(f'max :{t3.max()}')\n",
        "print(f'mean :{t3.mean()}')\n",
        "print(f'sum :{t3.sum()}')"
      ],
      "metadata": {
        "colab": {
          "base_uri": "https://localhost:8080/"
        },
        "id": "geO4h3OOU5wK",
        "outputId": "f4497b4a-e726-498e-ac0d-3f3d98c2d37e"
      },
      "execution_count": null,
      "outputs": [
        {
          "output_type": "stream",
          "name": "stdout",
          "text": [
            "min :2.942953109741211\n",
            "max :8.075705528259277\n",
            "mean :5.279005527496338\n",
            "sum :21.11602210998535\n"
          ]
        }
      ]
    },
    {
      "cell_type": "code",
      "source": [
        "min=t3.argmin()\n",
        "max=t3.argmax()\n",
        "print(min,max)"
      ],
      "metadata": {
        "colab": {
          "base_uri": "https://localhost:8080/"
        },
        "id": "12t6WBVkVQ1g",
        "outputId": "f4a5adf5-5239-4289-f354-08c30afcd7ab"
      },
      "execution_count": null,
      "outputs": [
        {
          "output_type": "stream",
          "name": "stdout",
          "text": [
            "tensor(1) tensor(0)\n"
          ]
        }
      ]
    },
    {
      "cell_type": "code",
      "source": [
        "t3"
      ],
      "metadata": {
        "colab": {
          "base_uri": "https://localhost:8080/"
        },
        "id": "rZcy6f3QVkYN",
        "outputId": "d872ef46-2b76-4c3a-a7b7-1cf35898f5e7"
      },
      "execution_count": null,
      "outputs": [
        {
          "output_type": "execute_result",
          "data": {
            "text/plain": [
              "tensor([[8.0757, 2.9430],\n",
              "        [6.6882, 3.4092]])"
            ]
          },
          "metadata": {},
          "execution_count": 53
        }
      ]
    },
    {
      "cell_type": "code",
      "source": [
        "t4=torch.rand(3,10)\n",
        "t4\n"
      ],
      "metadata": {
        "colab": {
          "base_uri": "https://localhost:8080/"
        },
        "id": "CuAlM96FVlbC",
        "outputId": "39d8a7d9-3e28-4db4-bf8b-092d927a62dc"
      },
      "execution_count": null,
      "outputs": [
        {
          "output_type": "execute_result",
          "data": {
            "text/plain": [
              "tensor([[0.1510, 0.7725, 0.8991, 0.9820, 0.8198, 0.2073, 0.0827, 0.1697, 0.6541,\n",
              "         0.4596],\n",
              "        [0.5129, 0.3394, 0.3839, 0.0458, 0.0458, 0.6803, 0.4296, 0.3439, 0.5630,\n",
              "         0.4698],\n",
              "        [0.8154, 0.0327, 0.0277, 0.2942, 0.7889, 0.4184, 0.5768, 0.5137, 0.0439,\n",
              "         0.9968]])"
            ]
          },
          "metadata": {},
          "execution_count": 55
        }
      ]
    },
    {
      "cell_type": "code",
      "source": [
        "t4.reshape(5,6)"
      ],
      "metadata": {
        "colab": {
          "base_uri": "https://localhost:8080/"
        },
        "id": "dOmKahs5Vtu0",
        "outputId": "0d3a7261-73b4-44d5-8158-55b40536b218"
      },
      "execution_count": null,
      "outputs": [
        {
          "output_type": "execute_result",
          "data": {
            "text/plain": [
              "tensor([[0.1510, 0.7725, 0.8991, 0.9820, 0.8198, 0.2073],\n",
              "        [0.0827, 0.1697, 0.6541, 0.4596, 0.5129, 0.3394],\n",
              "        [0.3839, 0.0458, 0.0458, 0.6803, 0.4296, 0.3439],\n",
              "        [0.5630, 0.4698, 0.8154, 0.0327, 0.0277, 0.2942],\n",
              "        [0.7889, 0.4184, 0.5768, 0.5137, 0.0439, 0.9968]])"
            ]
          },
          "metadata": {},
          "execution_count": 56
        }
      ]
    },
    {
      "cell_type": "code",
      "source": [
        "t4"
      ],
      "metadata": {
        "colab": {
          "base_uri": "https://localhost:8080/"
        },
        "id": "06ATFXHnV0Sd",
        "outputId": "ed079cb3-0ecb-409c-fc7f-4c45d9a0bda0"
      },
      "execution_count": null,
      "outputs": [
        {
          "output_type": "execute_result",
          "data": {
            "text/plain": [
              "tensor([[0.1510, 0.7725, 0.8991, 0.9820, 0.8198, 0.2073, 0.0827, 0.1697, 0.6541,\n",
              "         0.4596],\n",
              "        [0.5129, 0.3394, 0.3839, 0.0458, 0.0458, 0.6803, 0.4296, 0.3439, 0.5630,\n",
              "         0.4698],\n",
              "        [0.8154, 0.0327, 0.0277, 0.2942, 0.7889, 0.4184, 0.5768, 0.5137, 0.0439,\n",
              "         0.9968]])"
            ]
          },
          "metadata": {},
          "execution_count": 57
        }
      ]
    },
    {
      "cell_type": "code",
      "source": [
        "t5=t4.view(5,6)"
      ],
      "metadata": {
        "id": "ikaukm7SV1xB"
      },
      "execution_count": null,
      "outputs": []
    },
    {
      "cell_type": "code",
      "source": [
        "t5.shape"
      ],
      "metadata": {
        "colab": {
          "base_uri": "https://localhost:8080/"
        },
        "id": "leXwvn7yV3tT",
        "outputId": "f9545c9f-71bb-4dcd-8bd7-b620f8e60712"
      },
      "execution_count": null,
      "outputs": [
        {
          "output_type": "execute_result",
          "data": {
            "text/plain": [
              "torch.Size([5, 6])"
            ]
          },
          "metadata": {},
          "execution_count": 60
        }
      ]
    },
    {
      "cell_type": "code",
      "source": [
        "t6=torch.stack([t5,t5,t5,t5],dim=1)\n",
        "t6"
      ],
      "metadata": {
        "colab": {
          "base_uri": "https://localhost:8080/"
        },
        "id": "T9sKWRXFV94X",
        "outputId": "6ae4f951-2317-4f05-b4a0-f0659fd0e40c"
      },
      "execution_count": null,
      "outputs": [
        {
          "output_type": "execute_result",
          "data": {
            "text/plain": [
              "tensor([[[0.1510, 0.7725, 0.8991, 0.9820, 0.8198, 0.2073],\n",
              "         [0.1510, 0.7725, 0.8991, 0.9820, 0.8198, 0.2073],\n",
              "         [0.1510, 0.7725, 0.8991, 0.9820, 0.8198, 0.2073],\n",
              "         [0.1510, 0.7725, 0.8991, 0.9820, 0.8198, 0.2073]],\n",
              "\n",
              "        [[0.0827, 0.1697, 0.6541, 0.4596, 0.5129, 0.3394],\n",
              "         [0.0827, 0.1697, 0.6541, 0.4596, 0.5129, 0.3394],\n",
              "         [0.0827, 0.1697, 0.6541, 0.4596, 0.5129, 0.3394],\n",
              "         [0.0827, 0.1697, 0.6541, 0.4596, 0.5129, 0.3394]],\n",
              "\n",
              "        [[0.3839, 0.0458, 0.0458, 0.6803, 0.4296, 0.3439],\n",
              "         [0.3839, 0.0458, 0.0458, 0.6803, 0.4296, 0.3439],\n",
              "         [0.3839, 0.0458, 0.0458, 0.6803, 0.4296, 0.3439],\n",
              "         [0.3839, 0.0458, 0.0458, 0.6803, 0.4296, 0.3439]],\n",
              "\n",
              "        [[0.5630, 0.4698, 0.8154, 0.0327, 0.0277, 0.2942],\n",
              "         [0.5630, 0.4698, 0.8154, 0.0327, 0.0277, 0.2942],\n",
              "         [0.5630, 0.4698, 0.8154, 0.0327, 0.0277, 0.2942],\n",
              "         [0.5630, 0.4698, 0.8154, 0.0327, 0.0277, 0.2942]],\n",
              "\n",
              "        [[0.7889, 0.4184, 0.5768, 0.5137, 0.0439, 0.9968],\n",
              "         [0.7889, 0.4184, 0.5768, 0.5137, 0.0439, 0.9968],\n",
              "         [0.7889, 0.4184, 0.5768, 0.5137, 0.0439, 0.9968],\n",
              "         [0.7889, 0.4184, 0.5768, 0.5137, 0.0439, 0.9968]]])"
            ]
          },
          "metadata": {},
          "execution_count": 62
        }
      ]
    },
    {
      "cell_type": "code",
      "source": [
        "t6"
      ],
      "metadata": {
        "colab": {
          "base_uri": "https://localhost:8080/"
        },
        "id": "FjPO0r6QWP_m",
        "outputId": "67238cac-46b6-4d23-b75e-6201484f6b14"
      },
      "execution_count": null,
      "outputs": [
        {
          "output_type": "execute_result",
          "data": {
            "text/plain": [
              "tensor([[[0.1510, 0.7725, 0.8991, 0.9820, 0.8198, 0.2073],\n",
              "         [0.1510, 0.7725, 0.8991, 0.9820, 0.8198, 0.2073],\n",
              "         [0.1510, 0.7725, 0.8991, 0.9820, 0.8198, 0.2073],\n",
              "         [0.1510, 0.7725, 0.8991, 0.9820, 0.8198, 0.2073]],\n",
              "\n",
              "        [[0.0827, 0.1697, 0.6541, 0.4596, 0.5129, 0.3394],\n",
              "         [0.0827, 0.1697, 0.6541, 0.4596, 0.5129, 0.3394],\n",
              "         [0.0827, 0.1697, 0.6541, 0.4596, 0.5129, 0.3394],\n",
              "         [0.0827, 0.1697, 0.6541, 0.4596, 0.5129, 0.3394]],\n",
              "\n",
              "        [[0.3839, 0.0458, 0.0458, 0.6803, 0.4296, 0.3439],\n",
              "         [0.3839, 0.0458, 0.0458, 0.6803, 0.4296, 0.3439],\n",
              "         [0.3839, 0.0458, 0.0458, 0.6803, 0.4296, 0.3439],\n",
              "         [0.3839, 0.0458, 0.0458, 0.6803, 0.4296, 0.3439]],\n",
              "\n",
              "        [[0.5630, 0.4698, 0.8154, 0.0327, 0.0277, 0.2942],\n",
              "         [0.5630, 0.4698, 0.8154, 0.0327, 0.0277, 0.2942],\n",
              "         [0.5630, 0.4698, 0.8154, 0.0327, 0.0277, 0.2942],\n",
              "         [0.5630, 0.4698, 0.8154, 0.0327, 0.0277, 0.2942]],\n",
              "\n",
              "        [[0.7889, 0.4184, 0.5768, 0.5137, 0.0439, 0.9968],\n",
              "         [0.7889, 0.4184, 0.5768, 0.5137, 0.0439, 0.9968],\n",
              "         [0.7889, 0.4184, 0.5768, 0.5137, 0.0439, 0.9968],\n",
              "         [0.7889, 0.4184, 0.5768, 0.5137, 0.0439, 0.9968]]])"
            ]
          },
          "metadata": {},
          "execution_count": 63
        }
      ]
    },
    {
      "cell_type": "code",
      "source": [
        "t7=torch.rand(9,2,1)\n",
        "t7"
      ],
      "metadata": {
        "colab": {
          "base_uri": "https://localhost:8080/"
        },
        "id": "42D3_O4QWSQJ",
        "outputId": "086ce975-acb3-4339-dc28-d6555a8d64f6"
      },
      "execution_count": null,
      "outputs": [
        {
          "output_type": "execute_result",
          "data": {
            "text/plain": [
              "tensor([[[0.2017],\n",
              "         [0.8081]],\n",
              "\n",
              "        [[0.4107],\n",
              "         [0.5800]],\n",
              "\n",
              "        [[0.0159],\n",
              "         [0.2815]],\n",
              "\n",
              "        [[0.5165],\n",
              "         [0.0816]],\n",
              "\n",
              "        [[0.8720],\n",
              "         [0.2708]],\n",
              "\n",
              "        [[0.6225],\n",
              "         [0.3308]],\n",
              "\n",
              "        [[0.6015],\n",
              "         [0.6246]],\n",
              "\n",
              "        [[0.7370],\n",
              "         [0.4526]],\n",
              "\n",
              "        [[0.7284],\n",
              "         [0.1322]]])"
            ]
          },
          "metadata": {},
          "execution_count": 71
        }
      ]
    },
    {
      "cell_type": "code",
      "source": [
        "t7.squeeze()"
      ],
      "metadata": {
        "colab": {
          "base_uri": "https://localhost:8080/"
        },
        "id": "mQ2EJDkbWWl9",
        "outputId": "745277ad-d38e-476e-fdb8-3615cb7b2158"
      },
      "execution_count": null,
      "outputs": [
        {
          "output_type": "execute_result",
          "data": {
            "text/plain": [
              "tensor([[0.2017, 0.8081],\n",
              "        [0.4107, 0.5800],\n",
              "        [0.0159, 0.2815],\n",
              "        [0.5165, 0.0816],\n",
              "        [0.8720, 0.2708],\n",
              "        [0.6225, 0.3308],\n",
              "        [0.6015, 0.6246],\n",
              "        [0.7370, 0.4526],\n",
              "        [0.7284, 0.1322]])"
            ]
          },
          "metadata": {},
          "execution_count": 72
        }
      ]
    },
    {
      "cell_type": "code",
      "source": [
        "t7.unsqueeze(dim=1)"
      ],
      "metadata": {
        "colab": {
          "base_uri": "https://localhost:8080/"
        },
        "id": "_0QIVBFIWfTV",
        "outputId": "dd17d81c-59b8-49ec-843f-d02507959a72"
      },
      "execution_count": null,
      "outputs": [
        {
          "output_type": "execute_result",
          "data": {
            "text/plain": [
              "tensor([[[[0.2017],\n",
              "          [0.8081]]],\n",
              "\n",
              "\n",
              "        [[[0.4107],\n",
              "          [0.5800]]],\n",
              "\n",
              "\n",
              "        [[[0.0159],\n",
              "          [0.2815]]],\n",
              "\n",
              "\n",
              "        [[[0.5165],\n",
              "          [0.0816]]],\n",
              "\n",
              "\n",
              "        [[[0.8720],\n",
              "          [0.2708]]],\n",
              "\n",
              "\n",
              "        [[[0.6225],\n",
              "          [0.3308]]],\n",
              "\n",
              "\n",
              "        [[[0.6015],\n",
              "          [0.6246]]],\n",
              "\n",
              "\n",
              "        [[[0.7370],\n",
              "          [0.4526]]],\n",
              "\n",
              "\n",
              "        [[[0.7284],\n",
              "          [0.1322]]]])"
            ]
          },
          "metadata": {},
          "execution_count": 74
        }
      ]
    },
    {
      "cell_type": "code",
      "source": [
        "t8=torch.rand(size=(224,224,3))\n",
        "t8"
      ],
      "metadata": {
        "colab": {
          "base_uri": "https://localhost:8080/"
        },
        "id": "MUBrB-1SWpjr",
        "outputId": "4e4fb742-3204-41fc-e31f-d44f284cb6e3"
      },
      "execution_count": null,
      "outputs": [
        {
          "output_type": "execute_result",
          "data": {
            "text/plain": [
              "tensor([[[0.9995, 0.6960, 0.4251],\n",
              "         [0.2418, 0.9863, 0.7567],\n",
              "         [0.2878, 0.4685, 0.5414],\n",
              "         ...,\n",
              "         [0.0401, 0.7056, 0.3549],\n",
              "         [0.0372, 0.6114, 0.6975],\n",
              "         [0.5308, 0.3544, 0.6144]],\n",
              "\n",
              "        [[0.2151, 0.1950, 0.8934],\n",
              "         [0.6009, 0.2712, 0.3351],\n",
              "         [0.9671, 0.6700, 0.7671],\n",
              "         ...,\n",
              "         [0.4338, 0.2992, 0.6848],\n",
              "         [0.2083, 0.7422, 0.8624],\n",
              "         [0.5812, 0.3335, 0.2663]],\n",
              "\n",
              "        [[0.2022, 0.3408, 0.1576],\n",
              "         [0.2973, 0.1362, 0.2985],\n",
              "         [0.9547, 0.8882, 0.5319],\n",
              "         ...,\n",
              "         [0.5050, 0.5396, 0.1869],\n",
              "         [0.6748, 0.1277, 0.2948],\n",
              "         [0.8725, 0.4429, 0.6492]],\n",
              "\n",
              "        ...,\n",
              "\n",
              "        [[0.1516, 0.6957, 0.7872],\n",
              "         [0.1902, 0.8054, 0.8063],\n",
              "         [0.1538, 0.6240, 0.0967],\n",
              "         ...,\n",
              "         [0.5984, 0.7464, 0.9012],\n",
              "         [0.9657, 0.7885, 0.0344],\n",
              "         [0.2644, 0.6931, 0.1481]],\n",
              "\n",
              "        [[0.1409, 0.9378, 0.8711],\n",
              "         [0.5754, 0.8293, 0.8527],\n",
              "         [0.5152, 0.7984, 0.3927],\n",
              "         ...,\n",
              "         [0.0218, 0.6677, 0.2744],\n",
              "         [0.0931, 0.8632, 0.5409],\n",
              "         [0.7295, 0.2551, 0.1206]],\n",
              "\n",
              "        [[0.2255, 0.3823, 0.0110],\n",
              "         [0.2503, 0.1076, 0.9752],\n",
              "         [0.2731, 0.3951, 0.8779],\n",
              "         ...,\n",
              "         [0.0538, 0.6431, 0.8276],\n",
              "         [0.8434, 0.2229, 0.8123],\n",
              "         [0.3144, 0.5331, 0.7006]]])"
            ]
          },
          "metadata": {},
          "execution_count": 76
        }
      ]
    },
    {
      "cell_type": "code",
      "source": [
        "t8.permute(2,0,1)\n",
        "t8.shape"
      ],
      "metadata": {
        "colab": {
          "base_uri": "https://localhost:8080/"
        },
        "id": "ReRrRTvuW_r3",
        "outputId": "aa377c75-33a9-4925-9496-b6b4b3d4c764"
      },
      "execution_count": null,
      "outputs": [
        {
          "output_type": "execute_result",
          "data": {
            "text/plain": [
              "torch.Size([224, 224, 3])"
            ]
          },
          "metadata": {},
          "execution_count": 78
        }
      ]
    },
    {
      "cell_type": "code",
      "source": [
        "## some changes for git"
      ],
      "metadata": {
        "id": "ISoJplz4h6BL"
      },
      "execution_count": null,
      "outputs": []
    },
    {
      "cell_type": "code",
      "source": [
        "import torch\n"
      ],
      "metadata": {
        "id": "4hggfMmyg4dd"
      },
      "execution_count": 2,
      "outputs": []
    },
    {
      "cell_type": "code",
      "source": [
        "torch.cuda.is_available()\n"
      ],
      "metadata": {
        "id": "d7h-yufihB7g",
        "outputId": "f48decb8-66d5-4cd3-80f3-5678bb30314d",
        "colab": {
          "base_uri": "https://localhost:8080/"
        }
      },
      "execution_count": 3,
      "outputs": [
        {
          "output_type": "execute_result",
          "data": {
            "text/plain": [
              "True"
            ]
          },
          "metadata": {},
          "execution_count": 3
        }
      ]
    },
    {
      "cell_type": "code",
      "source": [
        "torch.cuda.device_count()"
      ],
      "metadata": {
        "id": "9bFypEVChENo",
        "outputId": "64db358f-7ce0-4ab7-82b7-8d236084507f",
        "colab": {
          "base_uri": "https://localhost:8080/"
        }
      },
      "execution_count": 4,
      "outputs": [
        {
          "output_type": "execute_result",
          "data": {
            "text/plain": [
              "1"
            ]
          },
          "metadata": {},
          "execution_count": 4
        }
      ]
    },
    {
      "cell_type": "code",
      "source": [
        "!nvidia-smi"
      ],
      "metadata": {
        "id": "UV4_LyjvhQom",
        "outputId": "6dc76c3b-b1f6-4105-9d2f-f347e689636c",
        "colab": {
          "base_uri": "https://localhost:8080/"
        }
      },
      "execution_count": 5,
      "outputs": [
        {
          "output_type": "stream",
          "name": "stdout",
          "text": [
            "Sat Jun 28 12:31:07 2025       \n",
            "+-----------------------------------------------------------------------------------------+\n",
            "| NVIDIA-SMI 550.54.15              Driver Version: 550.54.15      CUDA Version: 12.4     |\n",
            "|-----------------------------------------+------------------------+----------------------+\n",
            "| GPU  Name                 Persistence-M | Bus-Id          Disp.A | Volatile Uncorr. ECC |\n",
            "| Fan  Temp   Perf          Pwr:Usage/Cap |           Memory-Usage | GPU-Util  Compute M. |\n",
            "|                                         |                        |               MIG M. |\n",
            "|=========================================+========================+======================|\n",
            "|   0  Tesla T4                       Off |   00000000:00:04.0 Off |                    0 |\n",
            "| N/A   52C    P8              9W /   70W |       2MiB /  15360MiB |      0%      Default |\n",
            "|                                         |                        |                  N/A |\n",
            "+-----------------------------------------+------------------------+----------------------+\n",
            "                                                                                         \n",
            "+-----------------------------------------------------------------------------------------+\n",
            "| Processes:                                                                              |\n",
            "|  GPU   GI   CI        PID   Type   Process name                              GPU Memory |\n",
            "|        ID   ID                                                               Usage      |\n",
            "|=========================================================================================|\n",
            "|  No running processes found                                                             |\n",
            "+-----------------------------------------------------------------------------------------+\n"
          ]
        }
      ]
    },
    {
      "cell_type": "code",
      "source": [
        "device ='cuda' if torch.cuda.is_available() else 'cpu'\n",
        "device"
      ],
      "metadata": {
        "id": "TK7UfSSRhTvo",
        "outputId": "6a7503d9-2d58-4c7a-ac0c-e602091bfa4c",
        "colab": {
          "base_uri": "https://localhost:8080/",
          "height": 36
        }
      },
      "execution_count": 6,
      "outputs": [
        {
          "output_type": "execute_result",
          "data": {
            "text/plain": [
              "'cuda'"
            ],
            "application/vnd.google.colaboratory.intrinsic+json": {
              "type": "string"
            }
          },
          "metadata": {},
          "execution_count": 6
        }
      ]
    },
    {
      "cell_type": "code",
      "source": [
        "t1=torch.tensor([1,2,3,4])\n",
        "t1"
      ],
      "metadata": {
        "id": "suj758O5hX22",
        "outputId": "9bdceab4-0a4b-40d6-9692-90babb85ded6",
        "colab": {
          "base_uri": "https://localhost:8080/"
        }
      },
      "execution_count": 9,
      "outputs": [
        {
          "output_type": "execute_result",
          "data": {
            "text/plain": [
              "tensor([1, 2, 3, 4])"
            ]
          },
          "metadata": {},
          "execution_count": 9
        }
      ]
    },
    {
      "cell_type": "code",
      "source": [
        "t2=t1.to(device)"
      ],
      "metadata": {
        "id": "25vHYCD4hi4J"
      },
      "execution_count": 12,
      "outputs": []
    },
    {
      "cell_type": "code",
      "source": [
        "t2.cpu().numpy()"
      ],
      "metadata": {
        "id": "9Us-u038hlU4",
        "outputId": "c5ada844-8619-4a3e-f5ae-48c93e15f1e5",
        "colab": {
          "base_uri": "https://localhost:8080/"
        }
      },
      "execution_count": 14,
      "outputs": [
        {
          "output_type": "execute_result",
          "data": {
            "text/plain": [
              "array([1, 2, 3, 4])"
            ]
          },
          "metadata": {},
          "execution_count": 14
        }
      ]
    }
  ]
}